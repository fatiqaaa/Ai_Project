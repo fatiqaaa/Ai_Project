{
 "cells": [
  {
   "cell_type": "code",
   "execution_count": 7,
   "id": "5f109a24",
   "metadata": {},
   "outputs": [
    {
     "name": "stdout",
     "output_type": "stream",
     "text": [
      "Restocking Alerts:\n",
      "                   ItemName  Quantity  StockThreshold\n",
      "2      Analysis Frozen Meat        30              49\n",
      "15               System Tea        40              47\n",
      "33           Role Ice Cream        24              48\n",
      "51            Animal Pastry        35              50\n",
      "53         Music Antibiotic        22              41\n",
      "...                     ...       ...             ...\n",
      "99979     Itself Vegetables        19              46\n",
      "99982           Read Fruits        31              50\n",
      "99994           Ball Pastry        21              35\n",
      "99995      Difficult Fruits        29              36\n",
      "99999           Exist Sugar        30              40\n",
      "\n",
      "[17129 rows x 3 columns]\n",
      "\n",
      "Expiry Alerts (next 7 days):\n",
      "                    ItemName ExpirationDate\n",
      "2       Analysis Frozen Meat     2025-05-07\n",
      "103               Fish Bread     2025-05-04\n",
      "144           Teacher Pastry     2025-05-06\n",
      "208               Ten Fruits     2025-05-09\n",
      "247     Operation Vegetables     2025-05-09\n",
      "...                      ...            ...\n",
      "99447        Over Vegetables     2025-05-09\n",
      "99536          Too Ice Cream     2025-05-09\n",
      "99706       Have Frozen Meat     2025-05-06\n",
      "99776            Word Pastry     2025-05-07\n",
      "99868  Successful Vegetables     2025-05-04\n",
      "\n",
      "[1905 rows x 2 columns]\n"
     ]
    }
   ],
   "source": [
    "import pandas as pd\n",
    "from datetime import datetime, timedelta\n",
    "\n",
    "file_path = r'C:\\Users\\Munir\\Downloads\\Ai_Project-master\\Ai_Project\\Ai_Project\\smart_mart_inventory.csv'\n",
    "inventory_df = pd.read_csv(file_path)\n",
    "inventory_df['ExpirationDate'] = pd.to_datetime(inventory_df['ExpirationDate'])\n",
    "def check_restocking(df):\n",
    "    return df[df['Quantity'] < df['StockThreshold']][['ItemName', 'Quantity', 'StockThreshold']]\n",
    "def check_expiry(df, days=7):\n",
    "    today = datetime.now()\n",
    "    upcoming = today + timedelta(days=days)\n",
    "    return df[(df['ExpirationDate'] >= today) & (df['ExpirationDate'] <= upcoming)][['ItemName', 'ExpirationDate']]\n",
    "restock_alerts = check_restocking(inventory_df)\n",
    "print(\"Restocking Alerts:\")\n",
    "print(restock_alerts)\n",
    "expiry_alerts = check_expiry(inventory_df)\n",
    "print(\"\\nExpiry Alerts (next 7 days):\")\n",
    "print(expiry_alerts)\n"
   ]
  },
  {
   "cell_type": "code",
   "execution_count": null,
   "id": "9cb3e66b",
   "metadata": {},
   "outputs": [],
   "source": []
  }
 ],
 "metadata": {
  "kernelspec": {
   "display_name": "Python 3",
   "language": "python",
   "name": "python3"
  },
  "language_info": {
   "codemirror_mode": {
    "name": "ipython",
    "version": 3
   },
   "file_extension": ".py",
   "mimetype": "text/x-python",
   "name": "python",
   "nbconvert_exporter": "python",
   "pygments_lexer": "ipython3",
   "version": "3.11.9"
  }
 },
 "nbformat": 4,
 "nbformat_minor": 5
}
